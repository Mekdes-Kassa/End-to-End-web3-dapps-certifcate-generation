{
 "cells": [
  {
   "cell_type": "markdown",
   "metadata": {},
   "source": [
    "connecting to local Algorand Sandbox node\n"
   ]
  },
  {
   "cell_type": "code",
   "execution_count": 1,
   "metadata": {},
   "outputs": [
    {
     "name": "stdout",
     "output_type": "stream",
     "text": [
      "{'address': 'HFYV2LZJK3JWPUFPXHX6H76YRULSWG6ILEZGGVJA4QHCNQ5EB345Z4YB3I', 'amount': 10000000, 'amount-without-pending-rewards': 10000000, 'apps-local-state': [], 'apps-total-schema': {'num-byte-slice': 0, 'num-uint': 0}, 'assets': [], 'created-apps': [], 'created-assets': [], 'min-balance': 100000, 'pending-rewards': 0, 'reward-base': 0, 'rewards': 0, 'round': 1, 'status': 'Offline', 'total-apps-opted-in': 0, 'total-assets-opted-in': 0, 'total-created-apps': 0, 'total-created-assets': 0}\n"
     ]
    }
   ],
   "source": [
    "from algosdk.v2client import algod\n",
    "\n",
    "algod_address = \"http://localhost:4001\"\n",
    "algod_token = \"aaaaaaaaaaaaaaaaaaaaaaaaaaaaaaaaaaaaaaaaaaaaaaaaaaaaaaaaaaaaaaaa\"\n",
    "\n",
    "# Create an Algod client\n",
    "algod_client = algod.AlgodClient(algod_token, algod_address)\n",
    "\n",
    "# Query account information\n",
    "account_address = \"HFYV2LZJK3JWPUFPXHX6H76YRULSWG6ILEZGGVJA4QHCNQ5EB345Z4YB3I\"\n",
    "\n",
    "response = algod_client.account_info(account_address)\n",
    "print(response)"
   ]
  },
  {
   "cell_type": "markdown",
   "metadata": {},
   "source": [
    "connect to the Algorand testnet and query account information"
   ]
  },
  {
   "cell_type": "code",
   "execution_count": null,
   "metadata": {},
   "outputs": [],
   "source": [
    "from algosdk.v2client import algod\n",
    "\n",
    "algod_address = \"https://testnet-algorand.api.purestake.io/ps2\"\n",
    "algod_token = \"aaaaaaaaaaaaaaaaaaaaaaaaaaaaaaaaaaaaaaaaaaaaaaaaaaaaaaaaaaaaaaaa\"\n",
    "\n",
    "# Create an Algod client\n",
    "algod_client = algod.AlgodClient(algod_token, algod_address)\n",
    "\n",
    "# Query account information\n",
    "account_address = \"IPIGBFNXXJWHQHNFKJK5EJVYGNM2Z7TAID4FQMDDKDEI4YHODX2MHZBD4I\"\n",
    "\n",
    "response = algod_client.account_info(account_address)\n",
    "print(response)"
   ]
  },
  {
   "cell_type": "code",
   "execution_count": null,
   "metadata": {},
   "outputs": [],
   "source": []
  }
 ],
 "metadata": {
  "kernelspec": {
   "display_name": "Python 3",
   "language": "python",
   "name": "python3"
  },
  "language_info": {
   "codemirror_mode": {
    "name": "ipython",
    "version": 3
   },
   "file_extension": ".py",
   "mimetype": "text/x-python",
   "name": "python",
   "nbconvert_exporter": "python",
   "pygments_lexer": "ipython3",
   "version": "3.10.12"
  }
 },
 "nbformat": 4,
 "nbformat_minor": 2
}
