{
 "cells": [
  {
   "cell_type": "code",
   "execution_count": 1,
   "metadata": {},
   "outputs": [],
   "source": [
    "#importing api key from .env folder \n",
    "import os\n",
    "from dotenv import load_dotenv\n",
    "from openai import OpenAI\n",
    "load_dotenv()\n",
    "api_key  = os.getenv('OPENAI_API_KEY')\n"
   ]
  },
  {
   "cell_type": "code",
   "execution_count": 2,
   "metadata": {},
   "outputs": [
    {
     "name": "stdout",
     "output_type": "stream",
     "text": [
      "https://oaidalleapiprodscus.blob.core.windows.net/private/org-57DHbubaUsKcpEwBCHTVrS6b/user-ZPTxrE5Z3of20YjzdGT5LsFj/img-9vcEll6yCZKkCLSRRHXJXWF4.png?st=2024-01-10T20%3A05%3A15Z&se=2024-01-10T22%3A05%3A15Z&sp=r&sv=2021-08-06&sr=b&rscd=inline&rsct=image/png&skoid=6aaadede-4fb3-4698-a8f6-684d7786b067&sktid=a48cca56-e6da-484e-a814-9c849652bcb3&skt=2024-01-10T02%3A16%3A37Z&ske=2024-01-11T02%3A16%3A37Z&sks=b&skv=2021-08-06&sig=sa4b0I8NOWg3OICKcuwLJkHV/DiqgMHvPmi2OBeSAto%3D\n"
     ]
    }
   ],
   "source": [
    "from dotenv import load_dotenv, find_dotenv\n",
    "import os\n",
    "from openai import OpenAI\n",
    "from PIL import Image, ImageDraw, ImageFont\n",
    "import requests\n",
    "from io import BytesIO\n",
    "\n",
    "# api key is already called above \n",
    "client = OpenAI(api_key=api_key)\n",
    "\n",
    "response = client.images.generate(\n",
    "    model=\"dall-e-3\",\n",
    "  \n",
    "    #logo_image = Image.open(\"/home/hp/Documents/week 5/End-to-End-web3-dapps-certifcate-generation/certificate_image/logo.jpg\"),\n",
    "    prompt='completion of certificate + white background + red logo of 10 academy + have space for name and date of competion, try to make it formal + show the certeficate fully + no other images + landscape view',\n",
    "    size=\"1024x1024\",\n",
    "    quality=\"standard\",\n",
    "    n=1,\n",
    ")\n",
    "\n",
    "image_url = response.data[0].url\n",
    "\n",
    "print(image_url)"
   ]
  },
  {
   "cell_type": "code",
   "execution_count": null,
   "metadata": {},
   "outputs": [],
   "source": [
    "import cv2\n",
    "import requests\n",
    "import numpy as np\n",
    "\n",
    "headers = {\n",
    "    \"Authorization\": f\"Client-ID {api_key}\"\n",
    "}\n",
    "\n",
    "# Load the generated certificate background image\n",
    "response = requests.get(image_url)\n",
    "arr = np.asarray(bytearray(response.content), dtype=np.uint8)\n",
    "certificate_background = cv2.imdecode(arr, cv2.IMREAD_COLOR)\n",
    "\n",
    "# Load the logo image\n",
    "url = \"https://api.imgur.com/3/upload\"\n",
    "file_path = \"/home/hp/Documents/week 5/new/End-to-End-web3-dapps-certifcate-generation/image_generation/logo.png\"\n",
    "with open(file_path, 'rb') as file:\n",
    "    response = requests.post(url, files={'file': file})\n",
    "arr = np.asarray(bytearray(response.content), dtype=np.uint8)\n",
    "logo_image = cv2.imdecode(arr, cv2.IMREAD_COLOR)\n",
    "\n",
    "# Prepare the text and information for the certificate\n",
    "full_name = \"ten academician\"\n",
    "date = \"January 10, 2024\"\n",
    "other_info = \"Great distinction\"\n",
    "\n",
    "# Load the font\n",
    "font_path = \"/usr/share/fonts/truetype/dejavu/DejaVuSans.ttf\"\n",
    "font_size = 48\n",
    "font = cv2.FONT_HERSHEY_SIMPLEX\n",
    "\n",
    "# Create a blank certificate image with the same size as the background\n",
    "certificate = np.copy(certificate_background)\n",
    "\n",
    "# Paste the logo image onto the certificate\n",
    "x, y = 100, 100\n",
    "certificate[y:y + logo_image.shape[0], x:x + logo_image.shape[1]] = logo_image\n",
    "\n",
    "# Draw the text onto the certificate image\n",
    "text_position = (100, 400)\n",
    "text_color = (0, 0, 0)\n",
    "text_thickness = 2\n",
    "text_line_type = cv2.LINE_AA\n",
    "\n",
    "cv2.putText(certificate, full_name, text_position, font, font_size, text_color, text_thickness, text_line_type)\n",
    "cv2.putText(certificate, date, (text_position[0], text_position[1] + 60), font, font_size, text_color, text_thickness, text_line_type)\n",
    "cv2.putText(certificate, other_info, (text_position[0], text_position[1] + 120), font, font_size, text_color, text_thickness, text_line_type)\n",
    "\n",
    "# Save the final certificate image\n",
    "cv2.imwrite(\"certificate.png\", certificate)"
   ]
  }
 ],
 "metadata": {
  "kernelspec": {
   "display_name": "Python 3",
   "language": "python",
   "name": "python3"
  },
  "language_info": {
   "codemirror_mode": {
    "name": "ipython",
    "version": 3
   },
   "file_extension": ".py",
   "mimetype": "text/x-python",
   "name": "python",
   "nbconvert_exporter": "python",
   "pygments_lexer": "ipython3",
   "version": "3.10.12"
  }
 },
 "nbformat": 4,
 "nbformat_minor": 2
}
